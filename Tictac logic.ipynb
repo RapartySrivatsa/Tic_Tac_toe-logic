{
 "cells": [
  {
   "cell_type": "markdown",
   "id": "87623419",
   "metadata": {},
   "source": [
    "## Code for Tic Tac Toe logic:"
   ]
  },
  {
   "cell_type": "code",
   "execution_count": 2,
   "id": "176006de",
   "metadata": {},
   "outputs": [],
   "source": [
    "# For displaying the game\n",
    "def display_game(game_list):\n",
    "    print(\"This is the current game list: \")\n",
    "    print(game_list)"
   ]
  },
  {
   "cell_type": "code",
   "execution_count": 3,
   "id": "5c245bc2",
   "metadata": {},
   "outputs": [],
   "source": [
    "# For position choice in the game\n",
    "def position_choice():\n",
    "    choice='Wrong'\n",
    "    \n",
    "    while choice not in ['0','1','2']:\n",
    "        choice = input('Pick a position (0,1,2):  ')\n",
    "        \n",
    "        if choice not in ['0','1','2']:\n",
    "            print('Sorry invalid choice! Pls enter fm the list ')\n",
    "    return int(choice)"
   ]
  },
  {
   "cell_type": "code",
   "execution_count": 4,
   "id": "4797fe34",
   "metadata": {},
   "outputs": [],
   "source": [
    "# For replacing choice in the game\n",
    "def replacement_choice(game_list, position):\n",
    "    user_placement= input(\"Type the string to place at a position: \")\n",
    "    game_list[position]= user_placement\n",
    "    \n",
    "    return game_list"
   ]
  },
  {
   "cell_type": "code",
   "execution_count": 5,
   "id": "42b5dbdb",
   "metadata": {},
   "outputs": [],
   "source": [
    "# For continuing the game\n",
    "def gameon_choice():\n",
    "    choice='Wrong'\n",
    "    \n",
    "    while choice not in ['Y','N']:\n",
    "        choice = input('Would you like to continue the game:  ')\n",
    "        \n",
    "        if choice not in ['Y','N']:\n",
    "            print('Sorry invalid choice! Pls enter fm the list ')\n",
    "    if choice=='Y':\n",
    "        return True\n",
    "    else:\n",
    "        return False"
   ]
  },
  {
   "cell_type": "code",
   "execution_count": 6,
   "id": "19531f6b",
   "metadata": {},
   "outputs": [
    {
     "name": "stdout",
     "output_type": "stream",
     "text": [
      "This is the current game list: \n",
      "[0, 1, 2]\n",
      "Pick a position (0,1,2):  2\n",
      "Type the string to place at a position: hello\n",
      "This is the current game list: \n",
      "[0, 1, 'hello']\n",
      "Would you like to continue the game:  y\n",
      "Sorry invalid choice! Pls enter fm the list \n",
      "Would you like to continue the game:  Y\n",
      "This is the current game list: \n",
      "[0, 1, 'hello']\n",
      "Pick a position (0,1,2):  2\n",
      "Type the string to place at a position: change\n",
      "This is the current game list: \n",
      "[0, 1, 'change']\n",
      "Would you like to continue the game:  N\n"
     ]
    }
   ],
   "source": [
    "game_on= True         #true becauz game is still running\n",
    "game_list= [0,1,2]    #using the userchoice def to ask input\n",
    "\n",
    "while game_on:\n",
    "    display_game(game_list) #display the list taken by user\n",
    "    \n",
    "    position= position_choice() #position for replacement\n",
    "    \n",
    "    game_list=replacement_choice(game_list, position) #update the new position\n",
    "    \n",
    "    display_game(game_list)\n",
    "    \n",
    "    game_on = gameon_choice()\n",
    "    "
   ]
  },
  {
   "cell_type": "code",
   "execution_count": null,
   "id": "909cac88",
   "metadata": {},
   "outputs": [],
   "source": []
  }
 ],
 "metadata": {
  "kernelspec": {
   "display_name": "Python 3 (ipykernel)",
   "language": "python",
   "name": "python3"
  },
  "language_info": {
   "codemirror_mode": {
    "name": "ipython",
    "version": 3
   },
   "file_extension": ".py",
   "mimetype": "text/x-python",
   "name": "python",
   "nbconvert_exporter": "python",
   "pygments_lexer": "ipython3",
   "version": "3.9.13"
  }
 },
 "nbformat": 4,
 "nbformat_minor": 5
}
